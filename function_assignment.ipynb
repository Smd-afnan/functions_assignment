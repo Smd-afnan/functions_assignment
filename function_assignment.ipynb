{
 "cells": [
  {
   "cell_type": "markdown",
   "metadata": {},
   "source": [
    "### 1. What is the difference between a function and a method in Python?\n",
    "\n",
    "A function is a block of code that performs a specific task and can be called independently. A method is a function that is associated with an object and is called on that object.\n",
    "\n",
    "Example:\n"
   ]
  },
  {
   "cell_type": "code",
   "execution_count": null,
   "metadata": {},
   "outputs": [],
   "source": [
    "# Function\n",
    "def greet():\n",
    "    return \"Hello\"\n",
    "\n",
    "# Method\n",
    "class Person:\n",
    "    def greet(self):\n",
    "        return \"Hello\""
   ]
  },
  {
   "cell_type": "markdown",
   "metadata": {},
   "source": [
    "\n",
    "\n",
    "### 2. Explain the concept of function arguments and parameters in Python.\n",
    "\n",
    "Parameters are the variables listed inside the parentheses in the function definition. Arguments are the values passed to the function when it is called.\n",
    "\n",
    "Example:\n"
   ]
  },
  {
   "cell_type": "code",
   "execution_count": null,
   "metadata": {},
   "outputs": [],
   "source": [
    "def add(a, b):  # a and b are parameters\n",
    "    return a + b\n",
    "\n",
    "result = add(2, 3)  # 2 and 3 are arguments"
   ]
  },
  {
   "cell_type": "markdown",
   "metadata": {},
   "source": [
    "\n",
    "\n",
    "### 3. What are the different ways to define and call a function in Python?\n",
    "\n",
    "Functions can be defined using the `def` keyword and called by using their name followed by parentheses.\n",
    "\n",
    "Example:\n"
   ]
  },
  {
   "cell_type": "code",
   "execution_count": null,
   "metadata": {},
   "outputs": [],
   "source": [
    "# Defining a function\n",
    "def greet(name):\n",
    "    return f\"Hello, {name}\"\n",
    "\n",
    "# Calling a function\n",
    "message = greet(\"Alice\")"
   ]
  },
  {
   "cell_type": "markdown",
   "metadata": {},
   "source": [
    "\n",
    "\n",
    "### 4. What is the purpose of the `return` statement in a Python function?\n",
    "\n",
    "The `return` statement is used to exit a function and return a value to the caller.\n",
    "\n",
    "Example:\n"
   ]
  },
  {
   "cell_type": "code",
   "execution_count": null,
   "metadata": {},
   "outputs": [],
   "source": [
    "def add(a, b):\n",
    "    return a + b\n",
    "\n",
    "result = add(2, 3)  # result will be 5"
   ]
  },
  {
   "cell_type": "markdown",
   "metadata": {},
   "source": [
    "\n",
    "\n",
    "### 5. What are iterators in Python and how do they differ from iterables?\n",
    "\n",
    "An iterable is an object that can return an iterator, while an iterator is an object that keeps state and produces the next value when you call `next()` on it.\n",
    "\n",
    "Example:\n"
   ]
  },
  {
   "cell_type": "code",
   "execution_count": null,
   "metadata": {},
   "outputs": [],
   "source": [
    "# Iterable\n",
    "my_list = [1, 2, 3]\n",
    "\n",
    "# Iterator\n",
    "my_iter = iter(my_list)\n",
    "print(next(my_iter))  # Output: 1\n",
    "print(next(my_iter))  # Output: 2"
   ]
  },
  {
   "cell_type": "markdown",
   "metadata": {},
   "source": [
    "\n",
    "\n",
    "### 6. Explain the concept of generators in Python and how they are defined.\n",
    "\n",
    "Generators are a type of iterable that generate values on the fly and are defined using the `yield` keyword.\n",
    "\n",
    "Example:\n"
   ]
  },
  {
   "cell_type": "code",
   "execution_count": null,
   "metadata": {},
   "outputs": [],
   "source": [
    "def my_generator():\n",
    "    yield 1\n",
    "    yield 2\n",
    "    yield 3\n",
    "\n",
    "gen = my_generator()\n",
    "for value in gen:\n",
    "    print(value)"
   ]
  },
  {
   "cell_type": "markdown",
   "metadata": {},
   "source": [
    "\n",
    "\n",
    "### 7. What are the advantages of using generators over regular functions?\n",
    "\n",
    "Generators are memory efficient because they generate values on the fly and do not store the entire sequence in memory. They also allow for lazy evaluation.\n",
    "\n",
    "Example:\n"
   ]
  },
  {
   "cell_type": "code",
   "execution_count": null,
   "metadata": {},
   "outputs": [],
   "source": [
    "def my_generator():\n",
    "    yield 1\n",
    "    yield 2\n",
    "    yield 3\n",
    "\n",
    "gen = my_generator()\n",
    "print(next(gen))  # Output: 1"
   ]
  },
  {
   "cell_type": "markdown",
   "metadata": {},
   "source": [
    "\n",
    "\n",
    "### 8. What is a lambda function in Python and when is it typically used?\n",
    "\n",
    "A lambda function is an anonymous function defined with the `lambda` keyword. It is typically used for short, simple functions that are used only once or a few times.\n",
    "\n",
    "Example:\n"
   ]
  },
  {
   "cell_type": "code",
   "execution_count": null,
   "metadata": {},
   "outputs": [],
   "source": [
    "add = lambda x, y: x + y\n",
    "print(add(2, 3))  # Output: 5"
   ]
  },
  {
   "cell_type": "markdown",
   "metadata": {},
   "source": [
    "\n",
    "\n",
    "### 9. Explain the purpose and usage of the `map()` function in Python.\n",
    "\n",
    "The `map()` function applies a given function to all items in an iterable and returns a map object (an iterator).\n",
    "\n",
    "Example:\n"
   ]
  },
  {
   "cell_type": "code",
   "execution_count": null,
   "metadata": {},
   "outputs": [],
   "source": [
    "def square(x):\n",
    "    return x * x\n",
    "\n",
    "numbers = [1, 2, 3, 4]\n",
    "squared_numbers = map(square, numbers)\n",
    "print(list(squared_numbers))  # Output: [1, 4, 9, 16]"
   ]
  },
  {
   "cell_type": "markdown",
   "metadata": {},
   "source": [
    "\n",
    "\n",
    "### 10. What is the difference between `map()`, `reduce()`, and `filter()` functions in Python?\n",
    "\n",
    "- `map()`: Applies a function to all items in an iterable.\n",
    "- `reduce()`: Applies a function cumulatively to the items of an iterable, reducing it to a single value.\n",
    "- `filter()`: Filters items in an iterable based on a function that returns `True` or `False`.\n",
    "\n",
    "Example:\n"
   ]
  },
  {
   "cell_type": "code",
   "execution_count": null,
   "metadata": {},
   "outputs": [],
   "source": [
    "from functools import reduce\n",
    "\n",
    "# map()\n",
    "numbers = [1, 2, 3, 4]\n",
    "squared_numbers = map(lambda x: x * x, numbers)\n",
    "print(list(squared_numbers))  # Output: [1, 4, 9, 16]\n",
    "\n",
    "# reduce()\n",
    "sum_numbers = reduce(lambda x, y: x + y, numbers)\n",
    "print(sum_numbers)  # Output: 10\n",
    "\n",
    "# filter()\n",
    "even_numbers = filter(lambda x: x % 2 == 0, numbers)\n",
    "print(list(even_numbers))  # Output: [2, 4]"
   ]
  },
  {
   "cell_type": "markdown",
   "metadata": {},
   "source": [
    "\n",
    "\n",
    "### 11. Using pen & Paper write the internal mechanism for sum operation using reduce function on this given list: [47, 11, 42, 13]\n",
    "![alt text](<WhatsApp Image 2025-01-05 at 3.44.18 PM-1.jpeg>)\n"
   ]
  },
  {
   "cell_type": "markdown",
   "metadata": {},
   "source": []
  },
  {
   "cell_type": "markdown",
   "metadata": {},
   "source": [
    "### 1. Write a Python function that takes a list of numbers as input and returns the sum of all even numbers in\n",
    "the list.\n",
    "\n"
   ]
  },
  {
   "cell_type": "code",
   "execution_count": null,
   "metadata": {},
   "outputs": [],
   "source": [
    "def sum_of_even_numbers(numbers):\n",
    "    even_numbers = filter(lambda x: x % 2 == 0, numbers)\n",
    "    return sum(even_numbers)\n",
    "\n",
    "# Example usage\n",
    "numbers = [1, 2, 3, 4, 5, 6]\n",
    "result = sum_of_even_numbers(numbers)\n",
    "print(result)  # Output: 12"
   ]
  },
  {
   "cell_type": "markdown",
   "metadata": {},
   "source": [
    "### 2. Create a Python function that accepts a string and returns the reverse of that string."
   ]
  },
  {
   "cell_type": "code",
   "execution_count": null,
   "metadata": {},
   "outputs": [],
   "source": [
    "def reverse_string(s):\n",
    "    return s[::-1]\n",
    "\n",
    "# Example usage\n",
    "string = \"hello\"\n",
    "result = reverse_string(string)\n",
    "print(result)  # Output: \"olleh\""
   ]
  },
  {
   "cell_type": "markdown",
   "metadata": {},
   "source": [
    "\n",
    "\n",
    "### 3. Implement a Python function that takes a list of integers and returns a new list containing the squares of\n",
    "each number\n",
    "\n"
   ]
  },
  {
   "cell_type": "code",
   "execution_count": null,
   "metadata": {},
   "outputs": [],
   "source": [
    "def square_numbers(numbers):\n",
    "    return [x ** 2 for x in numbers]\n",
    "\n",
    "# Example usage\n",
    "numbers = [1, 2, 3, 4]\n",
    "result = square_numbers(numbers)\n",
    "print(result)  # Output: [1, 4, 9, 16]"
   ]
  },
  {
   "cell_type": "markdown",
   "metadata": {},
   "source": [
    "\n",
    "\n",
    "### 4. Write a Python function that checks if a given number is prime or not from 1 to 200.\n",
    "\n"
   ]
  },
  {
   "cell_type": "code",
   "execution_count": null,
   "metadata": {},
   "outputs": [],
   "source": [
    "def is_prime(n):\n",
    "    if n <= 1:\n",
    "        return False\n",
    "    for i in range(2, int(n**0.5) + 1):\n",
    "        if n % i == 0:\n",
    "            return False\n",
    "    return True\n",
    "\n",
    "# Example usage\n",
    "for num in range(1, 201):\n",
    "    if is_prime(num):\n",
    "        print(num, end=' ')"
   ]
  },
  {
   "cell_type": "markdown",
   "metadata": {},
   "source": [
    "\n",
    "\n",
    "### 5. Create an iterator class in Python that generates the Fibonacci sequence up to a specified number of terms.\n",
    "\n"
   ]
  },
  {
   "cell_type": "code",
   "execution_count": null,
   "metadata": {},
   "outputs": [],
   "source": [
    "def fibonacci(n_terms):\n",
    "    a, b = 0, 1\n",
    "    for _ in range(n_terms):\n",
    "        yield a\n",
    "        a, b = b, a + b\n",
    "\n",
    "# Example usage\n",
    "for num in fibonacci(10):\n",
    "    print(num, end=' ')"
   ]
  },
  {
   "cell_type": "markdown",
   "metadata": {},
   "source": [
    "\n",
    "\n",
    "### 6. Write a generator function in Python that yields the powers of 2 up to a given exponent.\n",
    "\n"
   ]
  },
  {
   "cell_type": "code",
   "execution_count": null,
   "metadata": {},
   "outputs": [],
   "source": [
    "def powers_of_2(exponent):\n",
    "    for i in range(exponent + 1):\n",
    "        yield 2 ** i\n",
    "\n",
    "# Example usage\n",
    "for power in powers_of_2(5):\n",
    "    print(power, end=' ')"
   ]
  },
  {
   "cell_type": "markdown",
   "metadata": {},
   "source": [
    "\n",
    "\n",
    "### 7. Implement a generator function that reads a file line by line and yields each line as a string.\n",
    "\n"
   ]
  },
  {
   "cell_type": "code",
   "execution_count": null,
   "metadata": {},
   "outputs": [],
   "source": [
    "def read_file_line_by_line(file_path):\n",
    "    with open(file_path, 'r') as file:\n",
    "        for line in file:\n",
    "            yield line.strip()\n",
    "\n",
    "# Example usage\n",
    "for line in read_file_line_by_line('example.txt'):\n",
    "    print(line)"
   ]
  },
  {
   "cell_type": "markdown",
   "metadata": {},
   "source": [
    "\n",
    "\n",
    "### 8. Use a lambda function in Python to sort a list of tuples based on the second element of each tuple\n",
    "\n"
   ]
  },
  {
   "cell_type": "code",
   "execution_count": null,
   "metadata": {},
   "outputs": [],
   "source": [
    "tuples_list = [(1, 3), (4, 1), (5, 2)]\n",
    "sorted_list = sorted(tuples_list, key=lambda x: x[1])\n",
    "print(sorted_list)  # Output: [(4, 1), (5, 2), (1, 3)]"
   ]
  },
  {
   "cell_type": "markdown",
   "metadata": {},
   "source": [
    "\n",
    "\n",
    "### 9. Write a Python program that uses `map()` to convert a list of temperatures from Celsius to Fahrenheit.\n",
    "\n"
   ]
  },
  {
   "cell_type": "code",
   "execution_count": null,
   "metadata": {},
   "outputs": [],
   "source": [
    "def celsius_to_fahrenheit(celsius):\n",
    "    return (celsius * 9/5) + 32\n",
    "\n",
    "celsius_temps = [0, 20, 30, 100]\n",
    "fahrenheit_temps = list(map(celsius_to_fahrenheit, celsius_temps))\n",
    "print(fahrenheit_temps)  # Output: [32.0, 68.0, 86.0, 212.0]"
   ]
  },
  {
   "cell_type": "markdown",
   "metadata": {},
   "source": [
    "\n",
    "\n",
    "### 10. Create a Python program that uses `filter()` to remove all the vowels from a given string.\n"
   ]
  },
  {
   "cell_type": "code",
   "execution_count": null,
   "metadata": {},
   "outputs": [],
   "source": [
    "def remove_vowels(s):\n",
    "    vowels = 'aeiouAEIOU'\n",
    "    return ''.join(filter(lambda x: x not in vowels, s))\n",
    "\n",
    "# Example usage\n",
    "string = \"hello world\"\n",
    "result = remove_vowels(string)\n",
    "print(result)  # Output: \"hll wrld\""
   ]
  },
  {
   "cell_type": "markdown",
   "metadata": {},
   "source": [
    "\n",
    "\n",
    "### 11) Imagine an accounting routine used in a book shop. It works on a list with sublists, which look like this:\n",
    "\n",
    "Write a Python program, which returns a list with 2-tuples. Each tuple consists of the order number and the\n",
    "product of the price per item and the quantity. The product should be increased by 10,- € if the value of the\n",
    "order is smaller than 100,00 €.\n",
    "\n",
    "Write a Python program using lambda and map.\n",
    "\n"
   ]
  },
  {
   "cell_type": "code",
   "execution_count": null,
   "metadata": {},
   "outputs": [],
   "source": [
    "orders = [\n",
    "    [\"34587\", \"Learning Python, Mark Lutz\", 4, 40.95],\n",
    "    [\"98762\", \"Programming Python, Mark Lutz\", 5, 56.80],\n",
    "    [\"77226\", \"Head First Python, Paul Barry\", 3, 32.95],\n",
    "    [\"88112\", \"Einführung in Python3, Bernd Klein\", 3, 24.99]\n",
    "]\n",
    "\n",
    "result = list(map(lambda x: (x[0], x[2] * x[3] + 10) if x[2] * x[3] < 100 else (x[0], x[2] * x[3]), orders))\n",
    "print(result)"
   ]
  }
 ],
 "metadata": {
  "kernelspec": {
   "display_name": "Python 3",
   "language": "python",
   "name": "python3"
  },
  "language_info": {
   "codemirror_mode": {
    "name": "ipython",
    "version": 3
   },
   "file_extension": ".py",
   "mimetype": "text/x-python",
   "name": "python",
   "nbconvert_exporter": "python",
   "pygments_lexer": "ipython3",
   "version": "3.13.0"
  }
 },
 "nbformat": 4,
 "nbformat_minor": 4
}
